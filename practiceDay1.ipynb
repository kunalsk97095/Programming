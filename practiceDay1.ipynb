{
 "cells": [
  {
   "cell_type": "code",
   "execution_count": 1,
   "metadata": {},
   "outputs": [
    {
     "data": {
      "text/plain": [
       "4"
      ]
     },
     "execution_count": 1,
     "metadata": {},
     "output_type": "execute_result"
    }
   ],
   "source": [
    "2+2"
   ]
  },
  {
   "cell_type": "code",
   "execution_count": 2,
   "metadata": {},
   "outputs": [
    {
     "data": {
      "text/plain": [
       "42"
      ]
     },
     "execution_count": 2,
     "metadata": {},
     "output_type": "execute_result"
    }
   ],
   "source": [
    "spar=40\n",
    "eggs=2\n",
    "spar+eggs"
   ]
  },
  {
   "cell_type": "code",
   "execution_count": 3,
   "metadata": {},
   "outputs": [
    {
     "data": {
      "text/plain": [
       "122"
      ]
     },
     "execution_count": 3,
     "metadata": {},
     "output_type": "execute_result"
    }
   ],
   "source": [
    "spar+eggs+80"
   ]
  },
  {
   "cell_type": "code",
   "execution_count": 4,
   "metadata": {},
   "outputs": [
    {
     "name": "stdout",
     "output_type": "stream",
     "text": [
      "Hello world this is my first program in python\n"
     ]
    }
   ],
   "source": [
    "print(\"Hello world this is my first program in python\")"
   ]
  },
  {
   "cell_type": "code",
   "execution_count": 7,
   "metadata": {},
   "outputs": [
    {
     "name": "stdout",
     "output_type": "stream",
     "text": [
      "What is your name\n",
      "kunal\n",
      "nice to meet you kunal\n"
     ]
    }
   ],
   "source": [
    "print(\"What is your name\")\n",
    "myname=input()\n",
    "print(\"nice to meet you \" + myname)"
   ]
  },
  {
   "cell_type": "code",
   "execution_count": 8,
   "metadata": {},
   "outputs": [
    {
     "name": "stdout",
     "output_type": "stream",
     "text": [
      "what is your age \n",
      "28\n",
      "your age is 28\n"
     ]
    }
   ],
   "source": [
    "#Looking for person age\n",
    "print(\"what is your age \")\n",
    "myAge=input()\n",
    "print(\"your age is \"+myAge)"
   ]
  },
  {
   "cell_type": "code",
   "execution_count": 15,
   "metadata": {},
   "outputs": [
    {
     "name": "stdout",
     "output_type": "stream",
     "text": [
      "My name lenght is 5\n"
     ]
    }
   ],
   "source": [
    "print(\"My name lenght is \"+str(len(myname)))"
   ]
  },
  {
   "cell_type": "code",
   "execution_count": 12,
   "metadata": {},
   "outputs": [
    {
     "name": "stdout",
     "output_type": "stream",
     "text": [
      "5\n"
     ]
    }
   ],
   "source": [
    "print(len(myname))"
   ]
  },
  {
   "cell_type": "code",
   "execution_count": 16,
   "metadata": {},
   "outputs": [
    {
     "name": "stdout",
     "output_type": "stream",
     "text": [
      "\n"
     ]
    }
   ],
   "source": [
    "print()"
   ]
  },
  {
   "cell_type": "code",
   "execution_count": 2,
   "metadata": {},
   "outputs": [
    {
     "name": "stdout",
     "output_type": "stream",
     "text": [
      "No Hello Please\n"
     ]
    }
   ],
   "source": [
    "if 2>=3:\n",
    "    print(\"Hello\")\n",
    "else:\n",
    "        print(\"No Hello Please\")"
   ]
  },
  {
   "cell_type": "code",
   "execution_count": 1,
   "metadata": {},
   "outputs": [
    {
     "name": "stdout",
     "output_type": "stream",
     "text": [
      "Ram\n",
      "You have entered the correct possword\n"
     ]
    }
   ],
   "source": [
    "#First Use case\n",
    "val1=input()\n",
    "if val1==\"Ram\":\n",
    "    print(\"You have entered the correct possword\")\n",
    "elif val1==\"Shyam\":\n",
    "    print(\"Please try again\")\n",
    "elif val1==\"Ram2\":\n",
    "    print(\"Give one more try\")\n",
    "else:\n",
    "    print(\"Nothing is matching\")"
   ]
  },
  {
   "cell_type": "code",
   "execution_count": 3,
   "metadata": {},
   "outputs": [
    {
     "name": "stdout",
     "output_type": "stream",
     "text": [
      "Type your password\n",
      "1992\n",
      "Access granted\n"
     ]
    }
   ],
   "source": [
    "name=''\n",
    "while not name:\n",
    "    print(\"Type your password\")\n",
    "    pwd=input()\n",
    "    if(int(pwd)==1992):\n",
    "        break\n",
    "        \n",
    "print(\"Access granted\")"
   ]
  },
  {
   "cell_type": "code",
   "execution_count": 4,
   "metadata": {},
   "outputs": [
    {
     "name": "stdout",
     "output_type": "stream",
     "text": [
      "Hello world\n",
      "Hello world\n",
      "Hello world\n",
      "Hello world\n",
      "Hello world\n"
     ]
    }
   ],
   "source": [
    "for i in range(5):\n",
    "    print(\"Hello world\")"
   ]
  },
  {
   "cell_type": "code",
   "execution_count": 6,
   "metadata": {},
   "outputs": [
    {
     "name": "stdout",
     "output_type": "stream",
     "text": [
      "9\n",
      "5\n",
      "9\n",
      "4\n",
      "7\n"
     ]
    }
   ],
   "source": [
    "import random\n",
    "for i in range(5):\n",
    "    print(random.randint(1,10))"
   ]
  },
  {
   "cell_type": "code",
   "execution_count": 9,
   "metadata": {},
   "outputs": [
    {
     "name": "stdout",
     "output_type": "stream",
     "text": [
      "2\n",
      "Howdy\n"
     ]
    }
   ],
   "source": [
    "spam=input()\n",
    "if(int(spam)==1):\n",
    "    print(\"Hello\")\n",
    "elif(int(spam)==2):\n",
    "    print(\"Howdy\")\n",
    "else:\n",
    "    print(\"Greetings\")"
   ]
  }
 ],
 "metadata": {
  "kernelspec": {
   "display_name": "Python 3",
   "language": "python",
   "name": "python3"
  },
  "language_info": {
   "codemirror_mode": {
    "name": "ipython",
    "version": 3
   },
   "file_extension": ".py",
   "mimetype": "text/x-python",
   "name": "python",
   "nbconvert_exporter": "python",
   "pygments_lexer": "ipython3",
   "version": "3.7.4"
  }
 },
 "nbformat": 4,
 "nbformat_minor": 2
}
